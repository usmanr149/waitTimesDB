{
 "cells": [
  {
   "cell_type": "code",
   "execution_count": 1,
   "metadata": {
    "collapsed": true
   },
   "outputs": [],
   "source": [
    "import pandas as pd\n",
    "import sqlite3"
   ]
  },
  {
   "cell_type": "code",
   "execution_count": 2,
   "metadata": {},
   "outputs": [],
   "source": [
    "con = sqlite3.connect(\"/Users/usmanr/PycharmProjects/waitTimesDB/waitTimes.db\")\n",
    "\n",
    "c = con.cursor()"
   ]
  },
  {
   "cell_type": "code",
   "execution_count": 3,
   "metadata": {},
   "outputs": [],
   "source": [
    "df = pd.read_sql(\"\"\"SELECT * FROM medicentreNames\"\"\", con=con)"
   ]
  },
  {
   "cell_type": "code",
   "execution_count": 10,
   "metadata": {},
   "outputs": [
    {
     "name": "stdout",
     "output_type": "stream",
     "text": [
      "Belle Rive Medicentre\nBelmont Medicentre\nCapilano Medicentre\nCastledowns Medicentre\nDowntown Medicentre\nEllerslie Medicentre\nHeritage Village Medicentre\nHermitage Medicentre\nKingsway Medicentre\nLondonderry Medicentre\nMcKenney Medicentre\nMillwoods Medicentre\nPleasantview Medicentre\nRiverbend Medicentre\nSherwood Park Medicentre\nWestgate Medicentre\nWestgrove Medicentre\n"
     ]
    }
   ],
   "source": [
    "for index, row in df.iterrows():\n",
    "    print(row[1])"
   ]
  },
  {
   "cell_type": "code",
   "execution_count": 13,
   "metadata": {},
   "outputs": [
    {
     "data": {
      "text/plain": [
       "[{'Belle Rive Medicentre': 0},\n {'Belmont Medicentre': 1},\n {'Capilano Medicentre': 2},\n {'Castledowns Medicentre': 3},\n {'Downtown Medicentre': 4},\n {'Ellerslie Medicentre': 5},\n {'Heritage Village Medicentre': 6},\n {'Hermitage Medicentre': 7},\n {'Kingsway Medicentre': 8},\n {'Londonderry Medicentre': 9},\n {'McKenney Medicentre': 10},\n {'Millwoods Medicentre': 11},\n {'Pleasantview Medicentre': 12},\n {'Riverbend Medicentre': 13},\n {'Sherwood Park Medicentre': 14},\n {'Westgate Medicentre': 15},\n {'Westgrove Medicentre': 16}]"
      ]
     },
     "execution_count": 13,
     "metadata": {},
     "output_type": "execute_result"
    }
   ],
   "source": [
    "[{row[1]:row[0]} for index, row in df.iterrows()]"
   ]
  },
  {
   "cell_type": "code",
   "execution_count": 14,
   "metadata": {},
   "outputs": [
    {
     "data": {
      "text/plain": [
       "{'Belle Rive Medicentre': 0,\n 'Belmont Medicentre': 1,\n 'Capilano Medicentre': 2,\n 'Castledowns Medicentre': 3,\n 'Downtown Medicentre': 4,\n 'Ellerslie Medicentre': 5,\n 'Heritage Village Medicentre': 6,\n 'Hermitage Medicentre': 7,\n 'Kingsway Medicentre': 8,\n 'Londonderry Medicentre': 9,\n 'McKenney Medicentre': 10,\n 'Millwoods Medicentre': 11,\n 'Pleasantview Medicentre': 12,\n 'Riverbend Medicentre': 13,\n 'Sherwood Park Medicentre': 14,\n 'Westgate Medicentre': 15,\n 'Westgrove Medicentre': 16}"
      ]
     },
     "execution_count": 14,
     "metadata": {},
     "output_type": "execute_result"
    }
   ],
   "source": [
    "dict(zip(df.Name, df.ID))"
   ]
  },
  {
   "cell_type": "code",
   "execution_count": null,
   "metadata": {},
   "outputs": [],
   "source": []
  }
 ],
 "metadata": {
  "kernelspec": {
   "display_name": "Python 2",
   "language": "python",
   "name": "python2"
  },
  "language_info": {
   "codemirror_mode": {
    "name": "ipython",
    "version": 2
   },
   "file_extension": ".py",
   "mimetype": "text/x-python",
   "name": "python",
   "nbconvert_exporter": "python",
   "pygments_lexer": "ipython2",
   "version": "2.7.6"
  }
 },
 "nbformat": 4,
 "nbformat_minor": 0
}
